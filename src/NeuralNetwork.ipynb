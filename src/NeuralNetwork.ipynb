{
 "cells": [
  {
   "cell_type": "markdown",
   "metadata": {},
   "source": [
    "<h1 style=\"text-align: center;\">7. Clasificación</h1>\n",
    "<h2 style=\"text-align: center;\">Redes neuronales artificiales</h2>"
   ]
  },
  {
   "cell_type": "markdown",
   "metadata": {},
   "source": [
    "------------------------------------------------------------------------\n"
   ]
  },
  {
   "cell_type": "markdown",
   "metadata": {},
   "source": [
    "Elaborado por el Dr. Carlos Francisco Méndez para la asignatura de Introducción a la Ciencia de Datos de la Licenciatura en Ciencias Genómicas\n",
    "\n",
    "## Objetivo\n",
    "\n",
    "Entrenar un modelo de red neuronal artificial profunda para resolver una tarea de clasificación multiclase usando PyTorch.\n",
    "\n",
    "Notebook adaptado de la [Capacitación oficial de PyTorch.](https://pytorch.org/tutorials/beginner/basics/quickstart_tutorial.html)\n",
    "\n",
    "## Descripción de la tarea\n",
    "\n",
    "En este taller vamos a user el conjunto de datos FashionMNIST. El modelo debe clasificar imágenes de elementos de vestimenta en una de 10 posibles categorías:\n",
    "\n",
    "0. T-shirt/top\n",
    "1. Trouser\n",
    "2. Pullover\n",
    "3. Dress\n",
    "4. Coat\n",
    "5. Sandal\n",
    "6. Shirt\n",
    "7. Sneaker\n",
    "8. Bag\n",
    "9. Ankle boot        \n",
    "    \n",
    "Ejemplos de entrada:\n",
    "<img \n",
    "    style=\"display: block; \n",
    "           margin-left: auto;\n",
    "           margin-right: auto;\n",
    "           width: 50%;\"\n",
    "    src=\"fashion-mnist-sprite.png\" \n",
    "    alt=\"FashionMNIST\">\n",
    "</img>\n",
    "\n"
   ]
  },
  {
   "cell_type": "markdown",
   "metadata": {},
   "source": [
    "------------------------------------------------------------------------\n"
   ]
  },
  {
   "cell_type": "markdown",
   "metadata": {},
   "source": [
    "## Importación de librerías"
   ]
  },
  {
   "cell_type": "code",
   "execution_count": 19,
   "metadata": {},
   "outputs": [],
   "source": [
    "import torch\n",
    "from torch import nn\n",
    "from torch.utils.data import DataLoader, TensorDataset\n",
    "from torchvision import datasets\n",
    "from torchvision.transforms import ToTensor\n",
    "from matplotlib import pyplot\n",
    "import pandas as pd\n",
    "from sklearn.model_selection import train_test_split\n",
    "from sklearn.preprocessing import StandardScaler\n",
    "from sklearn.metrics import precision_score, recall_score, f1_score, roc_auc_score, confusion_matrix\n",
    "from sklearn.metrics import roc_curve, auc\n",
    "import matplotlib.pyplot as plt\n",
    "from sklearn.metrics import confusion_matrix, ConfusionMatrixDisplay"
   ]
  },
  {
   "cell_type": "markdown",
   "metadata": {},
   "source": [
    "## Descarga y creación de conjuntos de entrenamiento y prueba\n",
    "\n",
    "Usaremos dos objetos de PyTorch para manejo de datos:\n",
    "* Dataset: permite almacenar conjuntos de datos en forma de `Ejemplo - Etiqueta`.\n",
    "* DataLoader: permite iterar a través del conjunto de datos.\n",
    "\n",
    "El módulo `torchvision.datasets` contiene objetos de la clase `Dataset` para acceder a diversos conjuntos de datos disponibles para uso libre. \n",
    "\n",
    "Usaremos el conjunto de datos `FashionMNIS`. El argumento `transform` permite transformar los datos en tensores con el parámetro ToTensor() y el argumento `download=True` indica que el dataset debe ser descargado.\n",
    "\n",
    "Dividimos el conjunto de datos en dos subconjuntos. Unos será usado para el entrenamiento de la red (`train_data`) y el otro para evaluarla (`test_data`).\n"
   ]
  },
  {
   "cell_type": "code",
   "execution_count": 3,
   "metadata": {},
   "outputs": [
    {
     "data": {
      "text/html": [
       "<div>\n",
       "<style scoped>\n",
       "    .dataframe tbody tr th:only-of-type {\n",
       "        vertical-align: middle;\n",
       "    }\n",
       "\n",
       "    .dataframe tbody tr th {\n",
       "        vertical-align: top;\n",
       "    }\n",
       "\n",
       "    .dataframe thead th {\n",
       "        text-align: right;\n",
       "    }\n",
       "</style>\n",
       "<table border=\"1\" class=\"dataframe\">\n",
       "  <thead>\n",
       "    <tr style=\"text-align: right;\">\n",
       "      <th></th>\n",
       "      <th>id</th>\n",
       "      <th>age_days</th>\n",
       "      <th>age_year</th>\n",
       "      <th>gender</th>\n",
       "      <th>height</th>\n",
       "      <th>weight</th>\n",
       "      <th>ap_hi</th>\n",
       "      <th>ap_lo</th>\n",
       "      <th>cholesterol</th>\n",
       "      <th>gluc</th>\n",
       "      <th>smoke</th>\n",
       "      <th>alco</th>\n",
       "      <th>active</th>\n",
       "      <th>cardio</th>\n",
       "      <th>bmi</th>\n",
       "      <th>pulse</th>\n",
       "      <th>bmi_clasification</th>\n",
       "      <th>pulse_clasification</th>\n",
       "    </tr>\n",
       "  </thead>\n",
       "  <tbody>\n",
       "    <tr>\n",
       "      <th>0</th>\n",
       "      <td>0</td>\n",
       "      <td>18393</td>\n",
       "      <td>50.391781</td>\n",
       "      <td>2</td>\n",
       "      <td>168</td>\n",
       "      <td>62.0</td>\n",
       "      <td>110</td>\n",
       "      <td>80</td>\n",
       "      <td>1</td>\n",
       "      <td>1</td>\n",
       "      <td>0</td>\n",
       "      <td>0</td>\n",
       "      <td>1</td>\n",
       "      <td>0</td>\n",
       "      <td>21.967120</td>\n",
       "      <td>30</td>\n",
       "      <td>Peso normal</td>\n",
       "      <td>2</td>\n",
       "    </tr>\n",
       "    <tr>\n",
       "      <th>1</th>\n",
       "      <td>1</td>\n",
       "      <td>20228</td>\n",
       "      <td>55.419178</td>\n",
       "      <td>1</td>\n",
       "      <td>156</td>\n",
       "      <td>85.0</td>\n",
       "      <td>140</td>\n",
       "      <td>90</td>\n",
       "      <td>3</td>\n",
       "      <td>1</td>\n",
       "      <td>0</td>\n",
       "      <td>0</td>\n",
       "      <td>1</td>\n",
       "      <td>1</td>\n",
       "      <td>34.927679</td>\n",
       "      <td>50</td>\n",
       "      <td>Obesidad</td>\n",
       "      <td>4</td>\n",
       "    </tr>\n",
       "    <tr>\n",
       "      <th>2</th>\n",
       "      <td>2</td>\n",
       "      <td>18857</td>\n",
       "      <td>51.663014</td>\n",
       "      <td>1</td>\n",
       "      <td>165</td>\n",
       "      <td>64.0</td>\n",
       "      <td>130</td>\n",
       "      <td>70</td>\n",
       "      <td>3</td>\n",
       "      <td>1</td>\n",
       "      <td>0</td>\n",
       "      <td>0</td>\n",
       "      <td>0</td>\n",
       "      <td>1</td>\n",
       "      <td>23.507805</td>\n",
       "      <td>60</td>\n",
       "      <td>Peso normal</td>\n",
       "      <td>4</td>\n",
       "    </tr>\n",
       "    <tr>\n",
       "      <th>3</th>\n",
       "      <td>3</td>\n",
       "      <td>17623</td>\n",
       "      <td>48.282192</td>\n",
       "      <td>2</td>\n",
       "      <td>169</td>\n",
       "      <td>82.0</td>\n",
       "      <td>150</td>\n",
       "      <td>100</td>\n",
       "      <td>1</td>\n",
       "      <td>1</td>\n",
       "      <td>0</td>\n",
       "      <td>0</td>\n",
       "      <td>1</td>\n",
       "      <td>1</td>\n",
       "      <td>28.710479</td>\n",
       "      <td>50</td>\n",
       "      <td>Sobrepeso</td>\n",
       "      <td>4</td>\n",
       "    </tr>\n",
       "    <tr>\n",
       "      <th>4</th>\n",
       "      <td>4</td>\n",
       "      <td>17474</td>\n",
       "      <td>47.873973</td>\n",
       "      <td>1</td>\n",
       "      <td>156</td>\n",
       "      <td>56.0</td>\n",
       "      <td>100</td>\n",
       "      <td>60</td>\n",
       "      <td>1</td>\n",
       "      <td>1</td>\n",
       "      <td>0</td>\n",
       "      <td>0</td>\n",
       "      <td>0</td>\n",
       "      <td>0</td>\n",
       "      <td>23.011177</td>\n",
       "      <td>40</td>\n",
       "      <td>Peso normal</td>\n",
       "      <td>3</td>\n",
       "    </tr>\n",
       "    <tr>\n",
       "      <th>...</th>\n",
       "      <td>...</td>\n",
       "      <td>...</td>\n",
       "      <td>...</td>\n",
       "      <td>...</td>\n",
       "      <td>...</td>\n",
       "      <td>...</td>\n",
       "      <td>...</td>\n",
       "      <td>...</td>\n",
       "      <td>...</td>\n",
       "      <td>...</td>\n",
       "      <td>...</td>\n",
       "      <td>...</td>\n",
       "      <td>...</td>\n",
       "      <td>...</td>\n",
       "      <td>...</td>\n",
       "      <td>...</td>\n",
       "      <td>...</td>\n",
       "      <td>...</td>\n",
       "    </tr>\n",
       "    <tr>\n",
       "      <th>61834</th>\n",
       "      <td>99988</td>\n",
       "      <td>20609</td>\n",
       "      <td>56.463014</td>\n",
       "      <td>1</td>\n",
       "      <td>159</td>\n",
       "      <td>72.0</td>\n",
       "      <td>130</td>\n",
       "      <td>90</td>\n",
       "      <td>2</td>\n",
       "      <td>2</td>\n",
       "      <td>0</td>\n",
       "      <td>0</td>\n",
       "      <td>1</td>\n",
       "      <td>0</td>\n",
       "      <td>28.479886</td>\n",
       "      <td>40</td>\n",
       "      <td>Sobrepeso</td>\n",
       "      <td>3</td>\n",
       "    </tr>\n",
       "    <tr>\n",
       "      <th>61835</th>\n",
       "      <td>99991</td>\n",
       "      <td>19699</td>\n",
       "      <td>53.969863</td>\n",
       "      <td>1</td>\n",
       "      <td>172</td>\n",
       "      <td>70.0</td>\n",
       "      <td>130</td>\n",
       "      <td>90</td>\n",
       "      <td>1</td>\n",
       "      <td>1</td>\n",
       "      <td>0</td>\n",
       "      <td>0</td>\n",
       "      <td>1</td>\n",
       "      <td>1</td>\n",
       "      <td>23.661439</td>\n",
       "      <td>40</td>\n",
       "      <td>Peso normal</td>\n",
       "      <td>3</td>\n",
       "    </tr>\n",
       "    <tr>\n",
       "      <th>61836</th>\n",
       "      <td>99993</td>\n",
       "      <td>19240</td>\n",
       "      <td>52.712329</td>\n",
       "      <td>2</td>\n",
       "      <td>168</td>\n",
       "      <td>76.0</td>\n",
       "      <td>120</td>\n",
       "      <td>80</td>\n",
       "      <td>1</td>\n",
       "      <td>1</td>\n",
       "      <td>1</td>\n",
       "      <td>0</td>\n",
       "      <td>1</td>\n",
       "      <td>0</td>\n",
       "      <td>26.927438</td>\n",
       "      <td>40</td>\n",
       "      <td>Sobrepeso</td>\n",
       "      <td>3</td>\n",
       "    </tr>\n",
       "    <tr>\n",
       "      <th>61837</th>\n",
       "      <td>99998</td>\n",
       "      <td>22431</td>\n",
       "      <td>61.454795</td>\n",
       "      <td>1</td>\n",
       "      <td>163</td>\n",
       "      <td>72.0</td>\n",
       "      <td>135</td>\n",
       "      <td>80</td>\n",
       "      <td>1</td>\n",
       "      <td>2</td>\n",
       "      <td>0</td>\n",
       "      <td>0</td>\n",
       "      <td>0</td>\n",
       "      <td>1</td>\n",
       "      <td>27.099251</td>\n",
       "      <td>55</td>\n",
       "      <td>Sobrepeso</td>\n",
       "      <td>4</td>\n",
       "    </tr>\n",
       "    <tr>\n",
       "      <th>61838</th>\n",
       "      <td>99999</td>\n",
       "      <td>20540</td>\n",
       "      <td>56.273973</td>\n",
       "      <td>1</td>\n",
       "      <td>170</td>\n",
       "      <td>72.0</td>\n",
       "      <td>120</td>\n",
       "      <td>80</td>\n",
       "      <td>2</td>\n",
       "      <td>1</td>\n",
       "      <td>0</td>\n",
       "      <td>0</td>\n",
       "      <td>1</td>\n",
       "      <td>0</td>\n",
       "      <td>24.913495</td>\n",
       "      <td>40</td>\n",
       "      <td>Peso normal</td>\n",
       "      <td>3</td>\n",
       "    </tr>\n",
       "  </tbody>\n",
       "</table>\n",
       "<p>61839 rows × 18 columns</p>\n",
       "</div>"
      ],
      "text/plain": [
       "          id  age_days   age_year  gender  height  weight  ap_hi  ap_lo  \\\n",
       "0          0     18393  50.391781       2     168    62.0    110     80   \n",
       "1          1     20228  55.419178       1     156    85.0    140     90   \n",
       "2          2     18857  51.663014       1     165    64.0    130     70   \n",
       "3          3     17623  48.282192       2     169    82.0    150    100   \n",
       "4          4     17474  47.873973       1     156    56.0    100     60   \n",
       "...      ...       ...        ...     ...     ...     ...    ...    ...   \n",
       "61834  99988     20609  56.463014       1     159    72.0    130     90   \n",
       "61835  99991     19699  53.969863       1     172    70.0    130     90   \n",
       "61836  99993     19240  52.712329       2     168    76.0    120     80   \n",
       "61837  99998     22431  61.454795       1     163    72.0    135     80   \n",
       "61838  99999     20540  56.273973       1     170    72.0    120     80   \n",
       "\n",
       "       cholesterol  gluc  smoke  alco  active  cardio        bmi  pulse  \\\n",
       "0                1     1      0     0       1       0  21.967120     30   \n",
       "1                3     1      0     0       1       1  34.927679     50   \n",
       "2                3     1      0     0       0       1  23.507805     60   \n",
       "3                1     1      0     0       1       1  28.710479     50   \n",
       "4                1     1      0     0       0       0  23.011177     40   \n",
       "...            ...   ...    ...   ...     ...     ...        ...    ...   \n",
       "61834            2     2      0     0       1       0  28.479886     40   \n",
       "61835            1     1      0     0       1       1  23.661439     40   \n",
       "61836            1     1      1     0       1       0  26.927438     40   \n",
       "61837            1     2      0     0       0       1  27.099251     55   \n",
       "61838            2     1      0     0       1       0  24.913495     40   \n",
       "\n",
       "      bmi_clasification  pulse_clasification  \n",
       "0           Peso normal                    2  \n",
       "1              Obesidad                    4  \n",
       "2           Peso normal                    4  \n",
       "3             Sobrepeso                    4  \n",
       "4           Peso normal                    3  \n",
       "...                 ...                  ...  \n",
       "61834         Sobrepeso                    3  \n",
       "61835       Peso normal                    3  \n",
       "61836         Sobrepeso                    3  \n",
       "61837         Sobrepeso                    4  \n",
       "61838       Peso normal                    3  \n",
       "\n",
       "[61839 rows x 18 columns]"
      ]
     },
     "execution_count": 3,
     "metadata": {},
     "output_type": "execute_result"
    }
   ],
   "source": [
    "# Load datasets\n",
    "data = pd.read_csv('../data/cvd_transformed.csv')\n",
    "data\n"
   ]
  },
  {
   "cell_type": "markdown",
   "metadata": {},
   "source": [
    "------------------------------------------------------------------------\n"
   ]
  },
  {
   "cell_type": "code",
   "execution_count": 4,
   "metadata": {},
   "outputs": [
    {
     "name": "stdout",
     "output_type": "stream",
     "text": [
      "Datos\n",
      "[[-0.41252876 -0.51957914 -0.38479629 ...  0.49289452 -1.12322809\n",
      "  -1.70180269]\n",
      " [ 0.33066899  2.48212624 -0.38479629 ...  0.49289452  1.82539772\n",
      "   0.78361434]\n",
      " [-0.22460301  2.48212624 -0.38479629 ... -2.02883165 -0.77271049\n",
      "   2.02632286]\n",
      " ...\n",
      " [-0.06948326 -0.51957914 -0.38479629 ...  0.49289452  0.00528188\n",
      "  -0.45909417]\n",
      " [ 1.2229113  -0.51957914  1.38952461 ... -2.02883165  0.04437073\n",
      "   1.4049686 ]\n",
      " [ 0.45703285  0.98127355 -0.38479629 ...  0.49289452 -0.45290544\n",
      "  -0.45909417]]\n"
     ]
    }
   ],
   "source": [
    "# Define the features and target variable\n",
    "features = ['age_year', 'cholesterol', 'gluc', 'smoke', 'alco', 'active', 'bmi', 'pulse']\n",
    "X = data[features]\n",
    "y = data['cardio']\n",
    "\n",
    "# Escalamiento de datos\n",
    "scaler = StandardScaler()\n",
    "scaler.fit(X)\n",
    "X = scaler.transform(X)\n",
    "print(\"Datos\")\n",
    "print(X)\n",
    "\n",
    "# Split the data into training and testing sets\n",
    "X_train, X_test, y_train, y_test = train_test_split(X, y, test_size=0.2, random_state=0)"
   ]
  },
  {
   "cell_type": "code",
   "execution_count": 5,
   "metadata": {},
   "outputs": [],
   "source": [
    "# Ensure X_train and y_train are numpy arrays\n",
    "X_train = X_train.to_numpy() if hasattr(X_train, 'to_numpy') else X_train\n",
    "y_train = y_train.to_numpy() if hasattr(y_train, 'to_numpy') else y_train\n",
    "\n",
    "X_test = X_test.to_numpy() if hasattr(X_test, 'to_numpy') else X_test\n",
    "y_test = y_test.to_numpy() if hasattr(y_test, 'to_numpy') else y_test\n",
    "\n",
    "# Convert to PyTorch tensors\n",
    "X_train_tensor = torch.tensor(X_train, dtype=torch.float32)\n",
    "y_train_tensor = torch.tensor(y_train, dtype=torch.long)  # Use long for classification labels\n",
    "\n",
    "X_test_tensor = torch.tensor(X_test, dtype=torch.float32)\n",
    "y_test_tensor = torch.tensor(y_test, dtype=torch.long)\n",
    "\n",
    "# Create TensorDataset and DataLoader\n",
    "train_dataset = TensorDataset(X_train_tensor, y_train_tensor)\n",
    "test_dataset = TensorDataset(X_test_tensor, y_test_tensor)\n",
    "\n",
    "# Create DataLoaders\n",
    "train_loader = DataLoader(train_dataset, batch_size=32, shuffle=True)\n",
    "test_loader = DataLoader(test_dataset, batch_size=32, shuffle=False)"
   ]
  },
  {
   "cell_type": "markdown",
   "metadata": {},
   "source": [
    "## Creación de `DataLoader`\n",
    "\n",
    "Definimos un tamaño de lote para que la red ajuste sus pesos cada 64 ejemplos (`batch_size = 64`).\n",
    "\n",
    "Creamos dos objetos `DataLoader` para iterar ambos conjuntos de datos por lotes.\n"
   ]
  },
  {
   "cell_type": "code",
   "execution_count": 6,
   "metadata": {},
   "outputs": [],
   "source": [
    "batch_size = 64\n",
    "\n",
    "train_dataloader = DataLoader(train_dataset, batch_size=batch_size)\n",
    "test_dataloader = DataLoader(test_dataset, batch_size=batch_size)\n"
   ]
  },
  {
   "cell_type": "markdown",
   "metadata": {},
   "source": [
    "### Observación del DataLoader\n",
    "\n",
    "Vamos a iterar sobre el DataLoader de prueba (`test_dataloader`) para ver observar la dimesionalidad del primer lote y su categoría."
   ]
  },
  {
   "cell_type": "code",
   "execution_count": 7,
   "metadata": {},
   "outputs": [
    {
     "name": "stdout",
     "output_type": "stream",
     "text": [
      "Dimensionalidad de datos X [TamañoLote, CanalImag, LargoImag, AnchoImag]: torch.Size([64, 8])\n",
      "Dimensionalidad de categorías y: torch.Size([64]), tipo de categorías: torch.int64\n"
     ]
    }
   ],
   "source": [
    "for X, y in test_dataloader:\n",
    "    print(f\"Dimensionalidad de datos X [TamañoLote, CanalImag, LargoImag, AnchoImag]: {X.shape}\")\n",
    "    print(f\"Dimensionalidad de categorías y: {y.shape}, tipo de categorías: {y.dtype}\")\n",
    "    break"
   ]
  },
  {
   "cell_type": "markdown",
   "metadata": {},
   "source": [
    "------------------------------------------------------------------------\n"
   ]
  },
  {
   "cell_type": "markdown",
   "metadata": {},
   "source": [
    "## Definición de la red neuronal\n",
    "\n",
    "### Definición de `device` para entrenamiento\n"
   ]
  },
  {
   "cell_type": "code",
   "execution_count": 8,
   "metadata": {},
   "outputs": [
    {
     "name": "stdout",
     "output_type": "stream",
     "text": [
      "Device a utulizar: cpu\n"
     ]
    }
   ],
   "source": [
    "device = (\n",
    "    \"cuda\"\n",
    "    if torch.cuda.is_available()\n",
    "    else \"mps\"\n",
    "    if torch.backends.mps.is_available()\n",
    "    else \"cpu\"\n",
    ")\n",
    "print(f\"Device a utulizar: {device}\")\n"
   ]
  },
  {
   "cell_type": "markdown",
   "metadata": {},
   "source": [
    "### Definición de arquitectura de la red neuronal\n",
    "\n",
    "Creamos la clase `RedNeuronal` a partir de la clase base [nn.Module](https://pytorch.org/docs/stable/generated/torch.nn.Module.html). Esta clase será definida de acuerdo a la arquitectura de red que deseamos entrenar.\n",
    "\n",
    "Debemos definir:\n",
    "- Capas\n",
    "- Nodos por capa\n",
    "- Función de activación\n",
    "- Procesamiento hacia adelante de la red (`forward`)\n",
    "\n",
    "Al final indicamos que la red debe crearse en el `device` definido anteriormente.\n"
   ]
  },
  {
   "cell_type": "code",
   "execution_count": 9,
   "metadata": {},
   "outputs": [
    {
     "name": "stdout",
     "output_type": "stream",
     "text": [
      "RedNeuronal(\n",
      "  (linear_relu_stack): Sequential(\n",
      "    (0): Linear(in_features=8, out_features=512, bias=True)\n",
      "    (1): ReLU()\n",
      "    (2): Linear(in_features=512, out_features=512, bias=True)\n",
      "    (3): ReLU()\n",
      "    (4): Linear(in_features=512, out_features=10, bias=True)\n",
      "  )\n",
      ")\n"
     ]
    }
   ],
   "source": [
    "# Define modelo\n",
    "class RedNeuronal(nn.Module):\n",
    "    def __init__(self):\n",
    "        super().__init__()\n",
    "        # Define a sequential model without the Flatten layer and adjust input size to 8\n",
    "        self.linear_relu_stack = nn.Sequential(\n",
    "            nn.Linear(8, 512),  # Adjust input size to 8 (number of features)\n",
    "            nn.ReLU(),\n",
    "            nn.Linear(512, 512),\n",
    "            nn.ReLU(),\n",
    "            nn.Linear(512, 10)  # Change this to the appropriate number of output classes, e.g., 2 if binary\n",
    "        )\n",
    "\n",
    "    def forward(self, x):\n",
    "        logits = self.linear_relu_stack(x)\n",
    "        return logits\n",
    "\n",
    "# Instantiate the model with the corrected input size\n",
    "model = RedNeuronal().to(device)\n",
    "\n",
    "print(model)"
   ]
  },
  {
   "cell_type": "markdown",
   "metadata": {},
   "source": [
    "### Definición de función de pérdida y optimizador\n",
    "\n",
    "Para que la red neuronal aprenda debemos utilizar una [función de pérdida o loss function](https://pytorch.org/docs/stable/nn.html#loss-functions) que mida las predicciones de la red y un [optimizador](https://pytorch.org/docs/stable/optim.html) que ajuste los pesos de la red neuronal para intenter predecir cada vez mejor, esto es, diminuir el valor de la función de pérdida.\n",
    "\n",
    "La función de pérdida más recomendada para resolver tareas de clasificación multiclase es la Entropía crusada (`CrossEntropyLoss`).\n",
    "\n",
    "El optimizador más sencillo es uno basado de el algortimo de Descenso por gradiente estocástico (`SGD`). La tasa de aprendizaje (learning rate o `lr`) será definida como 0.001."
   ]
  },
  {
   "cell_type": "code",
   "execution_count": 10,
   "metadata": {},
   "outputs": [],
   "source": [
    "loss_fn = nn.CrossEntropyLoss()\n",
    "optimizer = torch.optim.AdamW(model.parameters(), lr=1e-5)"
   ]
  },
  {
   "cell_type": "markdown",
   "metadata": {},
   "source": [
    "### Definición de método de entrenamiento (`train`)\n",
    "\n",
    "Esto incluye procesar los datos del `dataloader` lote por lote \"hacia delante\" y calcular el error de predicción de la red, esto es, el valor de la función de pérdida. Luego debemos propagar el error de predicción \"hacia atrás\" de la red para ajustar los pesos de los nodos. En cada iteración, la red ajustará los pesos para predecir cada vez mejor.\n"
   ]
  },
  {
   "cell_type": "code",
   "execution_count": 11,
   "metadata": {},
   "outputs": [],
   "source": [
    "def train(dataloader, model, loss_fn, optimizer):\n",
    "    size = len(dataloader.dataset)\n",
    "    model.train()\n",
    "    for batch, (X, y) in enumerate(dataloader):\n",
    "        X, y = X.to(device), y.to(device)\n",
    "\n",
    "        # Compute prediction error\n",
    "        pred = model(X)\n",
    "        loss = loss_fn(pred, y)\n",
    "\n",
    "        # Backpropagation\n",
    "        loss.backward()\n",
    "        optimizer.step()\n",
    "        optimizer.zero_grad()\n",
    "\n",
    "        if batch % 100 == 0:\n",
    "            loss, current = loss.item(), (batch + 1) * len(X)\n",
    "            print(f\"Valor de función de pérdida: {loss:>7f}  [{current:>5d}/{size:>5d}]\")"
   ]
  },
  {
   "cell_type": "markdown",
   "metadata": {},
   "source": [
    "### Definición de método de prueba (`test`)\n",
    "\n",
    "Esto incluye procesar los datos de prueba lote por lote, esto es, hacer que la red previamente entrenada realice predicciones sobre estos datos y acumular tanto el error (valor de la función de perdida) como los aciertos de la red (valor de exactitud o `Accuracy`).\n"
   ]
  },
  {
   "cell_type": "code",
   "execution_count": 12,
   "metadata": {},
   "outputs": [],
   "source": [
    "def test(dataloader, model, loss_fn):\n",
    "    size = len(dataloader.dataset)\n",
    "    num_batches = len(dataloader)\n",
    "    model.eval()\n",
    "    test_loss, correct = 0, 0\n",
    "    with torch.no_grad():\n",
    "        for X, y in dataloader:\n",
    "            X, y = X.to(device), y.to(device)\n",
    "            pred = model(X)\n",
    "            test_loss += loss_fn(pred, y).item()\n",
    "            correct += (pred.argmax(1) == y).type(torch.float).sum().item()\n",
    "    test_loss /= num_batches\n",
    "    correct /= size\n",
    "    print(f\"Fase de prueba: \\n Accuracy: {(100*correct):>0.1f}%, Avg loss: {test_loss:>8f} \\n\")"
   ]
  },
  {
   "cell_type": "markdown",
   "metadata": {},
   "source": [
    "------------------------------------------------------------------------\n"
   ]
  },
  {
   "cell_type": "markdown",
   "metadata": {},
   "source": [
    "## Entrenamiento de la red neuronal\n",
    "\n",
    "Ejecutamos los métodos de entrenamiento (`train`) y prueba (`test`) por un número de épocas (veces que la red entrena usando todos los datos disponibles).\n",
    "\n",
    "El `train` imprimirá el valor de pérdida por cada 100 lotes. El método `test` imprimirá el valro de pérdida y la exactitud de predicción.\n"
   ]
  },
  {
   "cell_type": "code",
   "execution_count": 13,
   "metadata": {},
   "outputs": [
    {
     "name": "stdout",
     "output_type": "stream",
     "text": [
      "Epoch 1\n",
      "-------------------------------\n",
      "Valor de función de pérdida: 2.302157  [   64/49471]\n",
      "Valor de función de pérdida: 1.870250  [ 6464/49471]\n",
      "Valor de función de pérdida: 1.372040  [12864/49471]\n",
      "Valor de función de pérdida: 1.051045  [19264/49471]\n",
      "Valor de función de pérdida: 0.884264  [25664/49471]\n",
      "Valor de función de pérdida: 0.744606  [32064/49471]\n",
      "Valor de función de pérdida: 0.663102  [38464/49471]\n",
      "Valor de función de pérdida: 0.716217  [44864/49471]\n",
      "Fase de prueba: \n",
      " Accuracy: 68.0%, Avg loss: 0.673139 \n",
      "\n",
      "Epoch 2\n",
      "-------------------------------\n",
      "Valor de función de pérdida: 0.661855  [   64/49471]\n",
      "Valor de función de pérdida: 0.657134  [ 6464/49471]\n",
      "Valor de función de pérdida: 0.547183  [12864/49471]\n",
      "Valor de función de pérdida: 0.546626  [19264/49471]\n",
      "Valor de función de pérdida: 0.575675  [25664/49471]\n",
      "Valor de función de pérdida: 0.568683  [32064/49471]\n",
      "Valor de función de pérdida: 0.549587  [38464/49471]\n",
      "Valor de función de pérdida: 0.644813  [44864/49471]\n",
      "Fase de prueba: \n",
      " Accuracy: 68.2%, Avg loss: 0.616984 \n",
      "\n",
      "Epoch 3\n",
      "-------------------------------\n",
      "Valor de función de pérdida: 0.603568  [   64/49471]\n",
      "Valor de función de pérdida: 0.615415  [ 6464/49471]\n",
      "Valor de función de pérdida: 0.521606  [12864/49471]\n",
      "Valor de función de pérdida: 0.520894  [19264/49471]\n",
      "Valor de función de pérdida: 0.549452  [25664/49471]\n",
      "Valor de función de pérdida: 0.551147  [32064/49471]\n",
      "Valor de función de pérdida: 0.536600  [38464/49471]\n",
      "Valor de función de pérdida: 0.634971  [44864/49471]\n",
      "Fase de prueba: \n",
      " Accuracy: 68.2%, Avg loss: 0.607275 \n",
      "\n",
      "Done!\n"
     ]
    }
   ],
   "source": [
    "epochs = 3\n",
    "for t in range(epochs):\n",
    "    print(f\"Epoch {t+1}\\n-------------------------------\")\n",
    "    train(train_dataloader, model, loss_fn, optimizer)\n",
    "    test(test_dataloader, model, loss_fn)\n",
    "print(\"Done!\")"
   ]
  },
  {
   "cell_type": "markdown",
   "metadata": {},
   "source": [
    "------------------------------------------------------------------------\n"
   ]
  },
  {
   "cell_type": "markdown",
   "metadata": {},
   "source": [
    "## Guardar modelo entrenado\n",
    "\n",
    "Para guardar nuestro modelo entrenado, almacenamos en un archivo los pesos ajustados finales de la red neuronal.\n"
   ]
  },
  {
   "cell_type": "code",
   "execution_count": 14,
   "metadata": {},
   "outputs": [
    {
     "name": "stdout",
     "output_type": "stream",
     "text": [
      "Guardamos modelo entrenado en model.pth\n"
     ]
    }
   ],
   "source": [
    "torch.save(model.state_dict(), \"model.pth\")\n",
    "print(\"Guardamos modelo entrenado en model.pth\")"
   ]
  },
  {
   "cell_type": "markdown",
   "metadata": {},
   "source": [
    "------------------------------------------------------------------------\n"
   ]
  },
  {
   "cell_type": "markdown",
   "metadata": {},
   "source": [
    "## Fase de inferencia\n",
    "\n",
    "\n",
    "### Cargar modelo entrenado\n",
    "\n",
    "Para usar nuestro modelo entrenado, creamos una instancia de la red neuronal y le cargamos los pesos almacenados.\n"
   ]
  },
  {
   "cell_type": "code",
   "execution_count": 15,
   "metadata": {},
   "outputs": [
    {
     "name": "stderr",
     "output_type": "stream",
     "text": [
      "C:\\Users\\nahua\\AppData\\Local\\Temp\\ipykernel_13964\\2627455650.py:2: FutureWarning: You are using `torch.load` with `weights_only=False` (the current default value), which uses the default pickle module implicitly. It is possible to construct malicious pickle data which will execute arbitrary code during unpickling (See https://github.com/pytorch/pytorch/blob/main/SECURITY.md#untrusted-models for more details). In a future release, the default value for `weights_only` will be flipped to `True`. This limits the functions that could be executed during unpickling. Arbitrary objects will no longer be allowed to be loaded via this mode unless they are explicitly allowlisted by the user via `torch.serialization.add_safe_globals`. We recommend you start setting `weights_only=True` for any use case where you don't have full control of the loaded file. Please open an issue on GitHub for any issues related to this experimental feature.\n",
      "  model.load_state_dict(torch.load(\"model.pth\"))\n"
     ]
    },
    {
     "data": {
      "text/plain": [
       "<All keys matched successfully>"
      ]
     },
     "execution_count": 15,
     "metadata": {},
     "output_type": "execute_result"
    }
   ],
   "source": [
    "model = RedNeuronal().to(device)\n",
    "model.load_state_dict(torch.load(\"model.pth\"))"
   ]
  },
  {
   "cell_type": "markdown",
   "metadata": {},
   "source": [
    "### Usar modelo entrenado\n",
    "\n",
    "Predecir con el modelo entrenado la categoría de nuevos datos. Como ejemplo, usemos la imagen 919 del conjunto de datos de prueba.\n"
   ]
  },
  {
   "cell_type": "markdown",
   "metadata": {},
   "source": [
    "Usamos nuestro modelo entrenado en modo de evaluación `model.eval()` y sin ajustes de pesos: `torch.no_grad()`.\n",
    "\n",
    "Imprimimos la categoría predicha por el modelo y la categoría verdadera."
   ]
  },
  {
   "cell_type": "code",
   "execution_count": 16,
   "metadata": {},
   "outputs": [
    {
     "name": "stdout",
     "output_type": "stream",
     "text": [
      "Categoría predicha: \"0\", Categoría verdadera: \"0\"\n"
     ]
    }
   ],
   "source": [
    "classes = [0,1]\n",
    "\n",
    "model.eval()\n",
    "x, y = test_dataset[5][0], test_dataset[5][1]\n",
    "with torch.no_grad():\n",
    "    x = x.to(device)\n",
    "    pred = model(x)\n",
    "    predicted, actual = classes[pred[0].argmax(0)], classes[y]\n",
    "    print(f'Categoría predicha: \"{predicted}\", Categoría verdadera: \"{actual}\"')"
   ]
  },
  {
   "cell_type": "markdown",
   "metadata": {},
   "source": [
    "------------------------------------------------------------------------\n"
   ]
  },
  {
   "cell_type": "code",
   "execution_count": 17,
   "metadata": {},
   "outputs": [],
   "source": [
    "# Put model in evaluation mode\n",
    "model.eval()\n",
    "\n",
    "# Collect all predictions and true labels\n",
    "all_preds = []\n",
    "all_labels = []\n",
    "\n",
    "with torch.no_grad():\n",
    "    for X_batch, y_batch in test_loader:\n",
    "        X_batch = X_batch.to(device)\n",
    "        y_batch = y_batch.to(device)\n",
    "        \n",
    "        # Get model predictions\n",
    "        outputs = model(X_batch)\n",
    "        _, preds = torch.max(outputs, 1)  # Get predicted class\n",
    "        \n",
    "        all_preds.extend(preds.cpu().numpy())\n",
    "        all_labels.extend(y_batch.cpu().numpy())"
   ]
  },
  {
   "cell_type": "code",
   "execution_count": 23,
   "metadata": {},
   "outputs": [
    {
     "name": "stdout",
     "output_type": "stream",
     "text": [
      "Resultados de evaluación\n",
      "F-1 weighted: 0.6453593355001805\n",
      "Precision: 0.6701668854303394\n",
      "Recall: 0.6223228277903535\n",
      "AUROC weighted: 0.6784066969140448\n",
      "Confusion Matrix:\n",
      " [[4866 1759]\n",
      " [2169 3574]]\n"
     ]
    }
   ],
   "source": [
    "# Calculate Precision, Recall, F1-Score\n",
    "precision = precision_score(all_labels, all_preds)\n",
    "recall = recall_score(all_labels, all_preds)\n",
    "f1 = f1_score(all_labels, all_preds)\n",
    "\n",
    "# Calculate AUROC (Assumes binary classification with classes [0, 1])\n",
    "# For AUROC, we need the raw scores, not the final predictions, so we use `outputs` before argmax in a real scenario.\n",
    "# This example assumes `preds` corresponds to the probability or score for the positive class.\n",
    "# If not, you'll need to modify it accordingly.\n",
    "auroc = roc_auc_score(all_labels, all_preds)\n",
    "\n",
    "# Print metrics\n",
    "#print(f'Precision: {precision:.4f}')\n",
    "#print(f'Recall: {recall:.4f}')\n",
    "#print(f'F1 Score: {f1:.4f}')\n",
    "#print(f'AUROC: {auroc:.4f}')\n",
    "\n",
    "\n",
    "\n",
    "# Evaluación\n",
    "print(\"Resultados de evaluación\")\n",
    "print(\"F-1 weighted: {}\".format(f1_score(all_labels, all_preds)))\n",
    "print(\"Precision: {}\".format(precision_score(all_labels, all_preds)))\n",
    "print(\"Recall: {}\".format(recall_score(all_labels, all_preds)))\n",
    "print(\"AUROC weighted: {}\".format(roc_auc_score(all_labels, all_preds, average='weighted')))\n",
    "\n",
    "# Confusion Matrix\n",
    "conf_matrix = confusion_matrix(all_labels, all_preds)\n",
    "print(\"Confusion Matrix:\\n\", conf_matrix)\n"
   ]
  },
  {
   "cell_type": "code",
   "execution_count": 21,
   "metadata": {},
   "outputs": [
    {
     "data": {
      "image/png": "[encoded data removed]",
      "text/plain": [
       "<Figure size 640x480 with 2 Axes>"
      ]
     },
     "metadata": {},
     "output_type": "display_data"
    }
   ],
   "source": [
    "disp = ConfusionMatrixDisplay(confusion_matrix=conf_matrix)\n",
    "disp.plot()\n",
    "plt.show()"
   ]
  },
  {
   "cell_type": "code",
   "execution_count": 22,
   "metadata": {},
   "outputs": [
    {
     "data": {
      "text/plain": [
       "Text(0.5, 0, 'False Positive Rate')"
      ]
     },
     "execution_count": 22,
     "metadata": {},
     "output_type": "execute_result"
    },
    {
     "data": {
      "image/png": "[encoded data removed]",
      "text/plain": [
       "<Figure size 1000x1000 with 1 Axes>"
      ]
     },
     "metadata": {},
     "output_type": "display_data"
    }
   ],
   "source": [
    "# Plot ROC curve\n",
    "\n",
    "false_positive_rate, true_positive_rate, thresholds = roc_curve(all_labels, all_preds)\n",
    "auc_roc = roc_auc_score(all_labels, all_preds, average='weighted')\n",
    "plt.figure(figsize=(10,10))\n",
    "plt.title('Receiver Operating Characteristic')\n",
    "plt.plot(false_positive_rate,true_positive_rate, color='red',label = 'AUC = %0.2f' % auc_roc)\n",
    "plt.legend(loc = 'lower right')\n",
    "plt.plot([0, 1], [0, 1],linestyle='--')\n",
    "plt.axis('tight')\n",
    "plt.ylabel('True Positive Rate')\n",
    "plt.xlabel('False Positive Rate')"
   ]
  }
 ],
 "metadata": {
  "kernelspec": {
   "display_name": "Python 3",
   "language": "python",
   "name": "python3"
  },
  "language_info": {
   "codemirror_mode": {
    "name": "ipython",
    "version": 3
   },
   "file_extension": ".py",
   "mimetype": "text/x-python",
   "name": "python",
   "nbconvert_exporter": "python",
   "pygments_lexer": "ipython3",
   "version": "3.12.1"
  }
 },
 "nbformat": 4,
 "nbformat_minor": 1
}
